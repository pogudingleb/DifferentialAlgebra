{
 "cells": [
  {
   "cell_type": "code",
   "execution_count": 1,
   "metadata": {},
   "outputs": [
    {
     "name": "stdout",
     "output_type": "stream",
     "text": [
      "Singular.jl, based on\n",
      "                     SINGULAR                                 /\n",
      " A Computer Algebra System for Polynomial Computations       /  Singular.jl: 0.4.2\n",
      "                                                           0<   Singular   : 2.3.1-4\n",
      " by: W. Decker, G.-M. Greuel, G. Pfister, H. Schoenemann     \\\n",
      "FB Mathematik der Universitaet, D-67653 Kaiserslautern        \\\n",
      "     \n"
     ]
    },
    {
     "data": {
      "text/plain": [
       "from_singular (generic function with 1 method)"
      ]
     },
     "execution_count": 1,
     "metadata": {},
     "output_type": "execute_result"
    }
   ],
   "source": [
    "include(\"../src/AlgebraicIdeals.jl\")"
   ]
  },
  {
   "cell_type": "markdown",
   "metadata": {},
   "source": [
    "## Experiments with $x' \\in \\langle x^n\\rangle^{(\\infty)}$"
   ]
  },
  {
   "cell_type": "code",
   "execution_count": null,
   "metadata": {},
   "outputs": [],
   "source": [
    "# creating a differential polynomial ring with a variable x\n",
    "R, (x,) = DifferentialPolynomialRing(Nemo.QQ, [\"x\"])"
   ]
  },
  {
   "cell_type": "markdown",
   "metadata": {},
   "source": [
    "The code below produces the polynomials $p_i$ from Theorem 1 from the note"
   ]
  },
  {
   "cell_type": "code",
   "execution_count": null,
   "metadata": {},
   "outputs": [],
   "source": [
    "n = 3\n",
    "\n",
    "# Preparing the common data for the formulas for p_i's\n",
    "C = prod([factorial(j) for j in 0:n])\n",
    "pow = ((n - 1) * (n - 2)) ÷ 2\n",
    "denom = C * d(x)^(pow)\n",
    "powers = [x^j for j in 0:(n - 1)]\n",
    "\n",
    "# p will be the array of p_i's\n",
    "p = []\n",
    "for i in 1:n\n",
    "    push!(\n",
    "        p, \n",
    "        divexact(\n",
    "            # wronskian(p, i) means that we take \n",
    "            # the square wronskian matrix but skip\n",
    "            # the i-th derivative;\n",
    "            # the is a more general version, see\n",
    "            # src/DifferentialPolynomials.jl\n",
    "            (-1)^(n + i) * det(wronskian(powers, i)), \n",
    "            denom\n",
    "        )\n",
    "    )\n",
    "end\n",
    "\n",
    "println(\"The polynomials from theorem 1:\")\n",
    "for i in 1:n\n",
    "    println(\"p_$i : $(p[i])\") \n",
    "end\n",
    "\n",
    "# Sanity check: check the formula from the theorem\n",
    "println(sum([p[i] * d(x^n, i) for i in 1:n]))"
   ]
  },
  {
   "cell_type": "markdown",
   "metadata": {},
   "source": [
    "## Experiments with $x'' \\in \\langle x^n\\rangle^{(\\infty)}$"
   ]
  },
  {
   "cell_type": "code",
   "execution_count": 2,
   "metadata": {},
   "outputs": [
    {
     "data": {
      "text/plain": [
       "(Differential polynomial ring over Rational Field in x, t, (x^(0), t^(0)))"
      ]
     },
     "execution_count": 2,
     "metadata": {},
     "output_type": "execute_result"
    }
   ],
   "source": [
    "R, (x, t) = DifferentialPolynomialRing(Nemo.QQ, [\"x\", \"t\"])"
   ]
  },
  {
   "cell_type": "code",
   "execution_count": 14,
   "metadata": {},
   "outputs": [],
   "source": [
    "xp = d(x)\n",
    "polys = [R(1), x, x^2, d(x), d(x)^2]\n",
    "#polys = map(p -> d(p, 3), polys)\n",
    "#polys = [R(1), x, t, t^2, t * x, x^2]\n",
    "wr = wronskian(polys)\n",
    "wr = map(p -> evaluate(p, [d(t)], [R(1)]), wr);"
   ]
  },
  {
   "cell_type": "code",
   "execution_count": 15,
   "metadata": {},
   "outputs": [],
   "source": [
    "det_wr = det(wr);"
   ]
  },
  {
   "cell_type": "code",
   "execution_count": 16,
   "metadata": {},
   "outputs": [
    {
     "data": {
      "text/plain": [
       "-96*x^(1)^3*x^(2)^4*x^(4)*x^(6) + 120*x^(1)^3*x^(2)^4*x^(5)^2 + 360*x^(1)^3*x^(2)^3*x^(3)^2*x^(6) - 1200*x^(1)^3*x^(2)^3*x^(3)*x^(4)*x^(5) + 960*x^(1)^3*x^(2)^3*x^(4)^3 - 1080*x^(1)^3*x^(2)^2*x^(3)^3*x^(5) + 720*x^(1)^3*x^(2)^2*x^(3)^2*x^(4)^2 + 1080*x^(1)^3*x^(2)*x^(3)^4*x^(4) - 336*x^(1)^2*x^(2)^5*x^(3)*x^(6) + 576*x^(1)^2*x^(2)^5*x^(4)*x^(5) + 3120*x^(1)^2*x^(2)^4*x^(3)^2*x^(5) - 3120*x^(1)^2*x^(2)^4*x^(3)*x^(4)^2 - 3120*x^(1)^2*x^(2)^3*x^(3)^3*x^(4) + 72*x^(1)*x^(2)^7*x^(6) - 1944*x^(1)*x^(2)^6*x^(3)*x^(5) + 1080*x^(1)*x^(2)^6*x^(4)^2 + 3960*x^(1)*x^(2)^5*x^(3)^2*x^(4) + 288*x^(2)^8*x^(5) - 1440*x^(2)^7*x^(3)*x^(4)"
      ]
     },
     "execution_count": 16,
     "metadata": {},
     "output_type": "execute_result"
    }
   ],
   "source": [
    "det_wr"
   ]
  },
  {
   "cell_type": "code",
   "execution_count": null,
   "metadata": {},
   "outputs": [],
   "source": []
  }
 ],
 "metadata": {
  "kernelspec": {
   "display_name": "Julia 1.5.2",
   "language": "julia",
   "name": "julia-1.5"
  },
  "language_info": {
   "file_extension": ".jl",
   "mimetype": "application/julia",
   "name": "julia",
   "version": "1.5.2"
  }
 },
 "nbformat": 4,
 "nbformat_minor": 4
}
