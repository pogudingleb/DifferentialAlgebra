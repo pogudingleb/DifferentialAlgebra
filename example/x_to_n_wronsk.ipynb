{
 "cells": [
  {
   "cell_type": "code",
   "execution_count": 1,
   "metadata": {},
   "outputs": [
    {
     "name": "stdout",
     "output_type": "stream",
     "text": [
      "\n",
      "Welcome to Nemo version 0.30.0\n",
      "\n",
      "Nemo comes with absolutely no warranty whatsoever\n",
      "\n",
      "Singular.jl, based on\n",
      "                     SINGULAR                               /\n",
      " A Computer Algebra System for Polynomial Computations     /  Singular.jl: 0.10.1\n",
      "                                                         0<   Singular   : 4.3.0p1\n",
      " by: W. Decker, G.-M. Greuel, G. Pfister, H. Schoenemann   \\\n",
      "FB Mathematik der Universitaet, D-67653 Kaiserslautern      \\\n",
      "     \n"
     ]
    }
   ],
   "source": [
    "using Nemo\n",
    "using Singular\n",
    "\n",
    "include(\"../src/DifferentialAlgebra.jl\")\n",
    "using .DifferentialAlgebra"
   ]
  },
  {
   "cell_type": "markdown",
   "metadata": {},
   "source": [
    "## Experiments with $x' \\in \\langle x^n\\rangle^{(\\infty)}$"
   ]
  },
  {
   "cell_type": "code",
   "execution_count": 2,
   "metadata": {},
   "outputs": [
    {
     "data": {
      "text/plain": [
       "(Differential polynomial ring over Rational Field in x, (x^(0),))"
      ]
     },
     "execution_count": 2,
     "metadata": {},
     "output_type": "execute_result"
    }
   ],
   "source": [
    "# creating a differential polynomial ring with a variable x\n",
    "R, (x,) = DifferentialPolynomialRing(Nemo.QQ, [\"x\"])"
   ]
  },
  {
   "cell_type": "markdown",
   "metadata": {},
   "source": [
    "The code below produces the polynomials $p_i$ from Theorem 1 from the note"
   ]
  },
  {
   "cell_type": "code",
   "execution_count": 3,
   "metadata": {},
   "outputs": [
    {
     "name": "stdout",
     "output_type": "stream",
     "text": [
      "The polynomials from theorem 1:\n",
      "p_1 : -1//6*x^(1)*x^(3) + 1//2*x^(2)^2\n",
      "p_2 : -1//2*x^(1)*x^(2)\n",
      "p_3 : 1//6*x^(1)^2\n",
      "x^(1)^5\n"
     ]
    }
   ],
   "source": [
    "n = 3\n",
    "\n",
    "# Preparing the common data for the formulas for p_i's\n",
    "C = prod([factorial(j) for j in 0:n])\n",
    "pow = ((n - 1) * (n - 2)) ÷ 2\n",
    "denom = C * d(x)^(pow)\n",
    "powers = [x^j for j in 0:(n - 1)]\n",
    "\n",
    "# p will be the array of p_i's\n",
    "p = []\n",
    "for i in 1:n\n",
    "    push!(\n",
    "        p, \n",
    "        divexact(\n",
    "            # wronskian(p, i) means that we take \n",
    "            # the square wronskian matrix but skip\n",
    "            # the i-th derivative;\n",
    "            # the is a more general version, see\n",
    "            # src/DifferentialPolynomials.jl\n",
    "            (-1)^(n + i) * det(wronskian(powers, i)), \n",
    "            denom\n",
    "        )\n",
    "    )\n",
    "end\n",
    "\n",
    "println(\"The polynomials from theorem 1:\")\n",
    "for i in 1:n\n",
    "    println(\"p_$i : $(p[i])\") \n",
    "end\n",
    "\n",
    "# Sanity check: check the formula from the theorem\n",
    "println(sum([p[i] * d(x^n, i) for i in 1:n]))"
   ]
  },
  {
   "cell_type": "code",
   "execution_count": null,
   "metadata": {},
   "outputs": [],
   "source": []
  }
 ],
 "metadata": {
  "kernelspec": {
   "display_name": "Julia 1.7.2",
   "language": "julia",
   "name": "julia-1.7"
  },
  "language_info": {
   "file_extension": ".jl",
   "mimetype": "application/julia",
   "name": "julia",
   "version": "1.7.2"
  }
 },
 "nbformat": 4,
 "nbformat_minor": 4
}
