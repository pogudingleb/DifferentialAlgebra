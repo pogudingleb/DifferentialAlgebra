{
 "cells": [
  {
   "cell_type": "code",
   "execution_count": 1,
   "metadata": {},
   "outputs": [
    {
     "name": "stdout",
     "output_type": "stream",
     "text": [
      "\n",
      "Welcome to Nemo version 0.30.0\n",
      "\n",
      "Nemo comes with absolutely no warranty whatsoever\n",
      "\n",
      "Singular.jl, based on\n",
      "                     SINGULAR                               /\n",
      " A Computer Algebra System for Polynomial Computations     /  Singular.jl: 0.10.1\n",
      "                                                         0<   Singular   : 4.3.0p1\n",
      " by: W. Decker, G.-M. Greuel, G. Pfister, H. Schoenemann   \\\n",
      "FB Mathematik der Universitaet, D-67653 Kaiserslautern      \\\n",
      "     \n"
     ]
    }
   ],
   "source": [
    "using Nemo\n",
    "\n",
    "include(\"../src/DifferentialAlgebra.jl\")\n",
    "using .DifferentialAlgebra"
   ]
  },
  {
   "cell_type": "markdown",
   "metadata": {},
   "source": [
    "## Intro"
   ]
  },
  {
   "cell_type": "markdown",
   "metadata": {},
   "source": [
    "First we should create a differential polynomial ring. The following function takes as arguments \n",
    "* the field of coefficients \n",
    "* the names of the variables\n",
    "* (optionally) the maximal order to be considered (by deafult 20)"
   ]
  },
  {
   "cell_type": "code",
   "execution_count": null,
   "metadata": {},
   "outputs": [],
   "source": [
    "R, (x, y) = DifferentialPolynomialRing(Nemo.QQ, [\"x\", \"y\"])"
   ]
  },
  {
   "cell_type": "markdown",
   "metadata": {},
   "source": [
    "Apart from the ring itself, it returns the generators, so one can build new differential polynomials using the arithmetic operations and function `d`"
   ]
  },
  {
   "cell_type": "code",
   "execution_count": null,
   "metadata": {},
   "outputs": [],
   "source": [
    "d(x^5)"
   ]
  },
  {
   "cell_type": "code",
   "execution_count": null,
   "metadata": {},
   "outputs": [],
   "source": [
    "# the third derivative\n",
    "d(x^2, 3)"
   ]
  },
  {
   "cell_type": "code",
   "execution_count": null,
   "metadata": {},
   "outputs": [],
   "source": [
    "d(x * y) - x * d(y) - y * d(x)"
   ]
  },
  {
   "cell_type": "markdown",
   "metadata": {},
   "source": [
    "## Example 0.13"
   ]
  },
  {
   "cell_type": "code",
   "execution_count": null,
   "metadata": {},
   "outputs": [],
   "source": [
    "R, (x,) = DifferentialPolynomialRing(Nemo.QQ, [\"x\"])"
   ]
  },
  {
   "cell_type": "code",
   "execution_count": null,
   "metadata": {},
   "outputs": [],
   "source": [
    "f = d(x)^2 - x"
   ]
  },
  {
   "cell_type": "code",
   "execution_count": null,
   "metadata": {},
   "outputs": [],
   "source": [
    "g = d(x, 2) - 1//2"
   ]
  },
  {
   "cell_type": "code",
   "execution_count": null,
   "metadata": {},
   "outputs": [],
   "source": [
    "diffred(g, f)[1]"
   ]
  },
  {
   "cell_type": "markdown",
   "metadata": {},
   "source": [
    "## Exercises 0.1 and 0.2"
   ]
  },
  {
   "cell_type": "code",
   "execution_count": null,
   "metadata": {},
   "outputs": [],
   "source": [
    "R, (x,) = DifferentialPolynomialRing(Nemo.QQ, [\"x\"])"
   ]
  },
  {
   "cell_type": "code",
   "execution_count": null,
   "metadata": {},
   "outputs": [],
   "source": [
    "# Exercise 0.1\n",
    "f = d(x)^2 - 4 * x^3 - 1\n",
    "g = d(x, 2) - 6 * x^2\n",
    "diffred(g, f)[1]"
   ]
  },
  {
   "cell_type": "code",
   "execution_count": null,
   "metadata": {},
   "outputs": [],
   "source": [
    "# Exercise 0.2\n",
    "f = d(x)^2 - x^2\n",
    "g_a = d(x, 2) - x\n",
    "g_b = det(wronskian([x, d(x)]))\n",
    "\n",
    "diffred(g_a, f)[1]"
   ]
  },
  {
   "cell_type": "code",
   "execution_count": null,
   "metadata": {},
   "outputs": [],
   "source": [
    "diffred(g_b, f)[1]"
   ]
  },
  {
   "cell_type": "markdown",
   "metadata": {},
   "source": [
    "## Exercise 0.7\n",
    "\n",
    "We can check the statement for $n = 2$ and $n = 3$ as follows"
   ]
  },
  {
   "cell_type": "code",
   "execution_count": null,
   "metadata": {},
   "outputs": [],
   "source": [
    "R, (t, y1, y2) = DifferentialPolynomialRing(Nemo.QQ, [\"t\", \"y1\", \"y2\"])\n",
    "det(wronskian([t * y1, t * y2])) - t^2 * det(wronskian([y1, y2]))"
   ]
  },
  {
   "cell_type": "code",
   "execution_count": null,
   "metadata": {},
   "outputs": [],
   "source": [
    "R, (t, y1, y2, y3) = DifferentialPolynomialRing(Nemo.QQ, [\"t\", \"y1\", \"y2\", \"y3\"])\n",
    "det(wronskian([t * y1, t * y2, t * y3])) - t^3 * det(wronskian([y1, y2, y3]))"
   ]
  },
  {
   "cell_type": "markdown",
   "metadata": {},
   "source": [
    "## Exercise 0.8\n",
    "\n",
    "Let us obtain an equation for $\\frac{1}{\\sin t}$ as has been discussed last time. We know that $\\sin t$ satisfies $x'' - x = 0$. To get an equation for the recoprocal, we plug $\\frac{1}{x}$ and take the numerator"
   ]
  },
  {
   "cell_type": "code",
   "execution_count": null,
   "metadata": {},
   "outputs": [],
   "source": [
    "R, (x,) = DifferentialPolynomialRing(Nemo.QQ, [\"x\"])\n",
    "numerator(evaluate(d(x, 2) - x, [1 // x]))"
   ]
  },
  {
   "cell_type": "markdown",
   "metadata": {},
   "source": [
    "## Exercise 1.3"
   ]
  },
  {
   "cell_type": "markdown",
   "metadata": {},
   "source": [
    "The code below verifies the identity for small values of $n$"
   ]
  },
  {
   "cell_type": "code",
   "execution_count": null,
   "metadata": {},
   "outputs": [],
   "source": [
    "R, (x,) = DifferentialPolynomialRing(Nemo.QQ, [\"x\"])"
   ]
  },
  {
   "cell_type": "code",
   "execution_count": null,
   "metadata": {},
   "outputs": [],
   "source": [
    "det(wronskian([R(1), x, x^2]))"
   ]
  },
  {
   "cell_type": "code",
   "execution_count": null,
   "metadata": {},
   "outputs": [],
   "source": [
    "det(wronskian([R(1), x, x^2, x^3]))"
   ]
  },
  {
   "cell_type": "code",
   "execution_count": null,
   "metadata": {},
   "outputs": [],
   "source": [
    "det(wronskian([R(1), x, x^2, x^3, x^4]))"
   ]
  },
  {
   "cell_type": "code",
   "execution_count": null,
   "metadata": {},
   "outputs": [],
   "source": [
    "det(wronskian([R(1), x, x^2, x^3, x^4, x^5]))"
   ]
  },
  {
   "cell_type": "code",
   "execution_count": null,
   "metadata": {},
   "outputs": [],
   "source": []
  }
 ],
 "metadata": {
  "kernelspec": {
   "display_name": "Julia 1.7.2",
   "language": "julia",
   "name": "julia-1.7"
  },
  "language_info": {
   "file_extension": ".jl",
   "mimetype": "application/julia",
   "name": "julia",
   "version": "1.7.2"
  }
 },
 "nbformat": 4,
 "nbformat_minor": 4
}
