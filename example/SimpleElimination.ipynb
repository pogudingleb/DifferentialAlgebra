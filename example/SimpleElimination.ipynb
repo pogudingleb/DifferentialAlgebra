{
 "cells": [
  {
   "cell_type": "code",
   "execution_count": 1,
   "metadata": {},
   "outputs": [
    {
     "name": "stdout",
     "output_type": "stream",
     "text": [
      "\n",
      "Welcome to Nemo version 0.30.0\n",
      "\n",
      "Nemo comes with absolutely no warranty whatsoever\n",
      "\n",
      "Singular.jl, based on\n",
      "                     SINGULAR                               /\n",
      " A Computer Algebra System for Polynomial Computations     /  Singular.jl: 0.10.1\n",
      "                                                         0<   Singular   : 4.3.0p1\n",
      " by: W. Decker, G.-M. Greuel, G. Pfister, H. Schoenemann   \\\n",
      "FB Mathematik der Universitaet, D-67653 Kaiserslautern      \\\n",
      "     \n"
     ]
    }
   ],
   "source": [
    "using Nemo\n",
    "using Singular\n",
    "using DifferentialAlgebra"
   ]
  },
  {
   "cell_type": "markdown",
   "metadata": {},
   "source": [
    "First we create the coefficient field $\\mathbb{Q}(a, b, c, d)$"
   ]
  },
  {
   "cell_type": "code",
   "execution_count": 2,
   "metadata": {},
   "outputs": [
    {
     "data": {
      "text/plain": [
       "Fraction field of Multivariate Polynomial Ring in a, b, c, d over Rational Field"
      ]
     },
     "execution_count": 2,
     "metadata": {},
     "output_type": "execute_result"
    }
   ],
   "source": [
    "coef_ring, (a, b, c, dd) = Nemo.PolynomialRing(Nemo.QQ, [\"a\", \"b\", \"c\", \"d\"])\n",
    "F = FractionField(coef_ring)"
   ]
  },
  {
   "cell_type": "markdown",
   "metadata": {},
   "source": [
    "And then the ring of differential polynomials together with the system"
   ]
  },
  {
   "cell_type": "code",
   "execution_count": 3,
   "metadata": {},
   "outputs": [
    {
     "data": {
      "text/plain": [
       "2-element Vector{DiffPoly}:\n",
       " b*x^(0)*y^(0) - a*x^(0) + x^(1)\n",
       " -d*x^(0)*y^(0) + c*y^(0) + y^(1)"
      ]
     },
     "execution_count": 3,
     "metadata": {},
     "output_type": "execute_result"
    }
   ],
   "source": [
    "R, (x, y) = DifferentialPolynomialRing(F, [\"x\", \"y\"])\n",
    "a, b, c, dd = map(x -> R(x), [a, b, c, dd])\n",
    "\n",
    "eqs = [\n",
    "    d(x) - a * x + b * x * y,\n",
    "    d(y) + c * y - dd * x * y\n",
    "]"
   ]
  },
  {
   "cell_type": "markdown",
   "metadata": {},
   "source": [
    "In order to preform elimination, we add a derivative of each of the equations:"
   ]
  },
  {
   "cell_type": "code",
   "execution_count": 4,
   "metadata": {},
   "outputs": [
    {
     "data": {
      "text/plain": [
       "4-element Vector{DiffPoly}:\n",
       " b*x^(0)*y^(0) - a*x^(0) + x^(1)\n",
       " -d*x^(0)*y^(0) + c*y^(0) + y^(1)\n",
       " b*x^(0)*y^(1) + b*x^(1)*y^(0) - a*x^(1) + x^(2)\n",
       " -d*x^(0)*y^(1) - d*x^(1)*y^(0) + c*y^(1) + y^(2)"
      ]
     },
     "execution_count": 4,
     "metadata": {},
     "output_type": "execute_result"
    }
   ],
   "source": [
    "for i in 1:2\n",
    "    push!(eqs, d(eqs[i]))\n",
    "end\n",
    "eqs"
   ]
  },
  {
   "cell_type": "markdown",
   "metadata": {},
   "source": [
    "Now we convert them to normal polynomial with `lex` ordering so that $y$'s are higher than $x$'s."
   ]
  },
  {
   "cell_type": "code",
   "execution_count": null,
   "metadata": {},
   "outputs": [],
   "source": [
    "Rsing, pls = get_singular_polys(eqs, :lex, lex_ranking([\"y\", \"x\"]))"
   ]
  },
  {
   "cell_type": "markdown",
   "metadata": {},
   "source": [
    "... and compute the Groebner basis"
   ]
  },
  {
   "cell_type": "code",
   "execution_count": null,
   "metadata": {},
   "outputs": [],
   "source": [
    "gb = gens(Singular.std(Singular.Ideal(Rsing, pls)))"
   ]
  },
  {
   "cell_type": "markdown",
   "metadata": {},
   "source": [
    "Note that the first element involves $x$'s only. We convert it back to the differential ring and muliply by $ad$ for convenience."
   ]
  },
  {
   "cell_type": "code",
   "execution_count": null,
   "metadata": {},
   "outputs": [],
   "source": [
    "ioequation = a * dd * from_singular(gb[1], R)"
   ]
  },
  {
   "cell_type": "markdown",
   "metadata": {},
   "source": [
    "Then we conclude that the functions of the parameters that can be identified by a series of experiments are\n",
    "\n",
    "$\\mathbb{C}(ad, d, ac, c) = \\mathbb{C}(a, c, d)$"
   ]
  },
  {
   "cell_type": "markdown",
   "metadata": {},
   "source": [
    "## Squaring the Painleve I function"
   ]
  },
  {
   "cell_type": "markdown",
   "metadata": {},
   "source": [
    "Painleve transcendents are the function satisfying a differential equation of the form $y'' = f(t, y, y')$ of degree two and not expressable in terms of \"simpler\" functions.\n",
    "\n",
    "The simplest one is the first Painleve equation:\n",
    "\n",
    "$y'' = 6y^2 + t$\n",
    "\n",
    "We would like to derive a differential equation satisfied by $z = y^2$."
   ]
  },
  {
   "cell_type": "code",
   "execution_count": null,
   "metadata": {},
   "outputs": [],
   "source": [
    "R, (t, y, z) = DifferentialPolynomialRing(Nemo.QQ, [\"t\", \"y\", \"z\"])"
   ]
  },
  {
   "cell_type": "code",
   "execution_count": null,
   "metadata": {},
   "outputs": [],
   "source": [
    "eqs = [\n",
    "    d(t) - 1,\n",
    "    d(y, 2) - 6 * y^2 - t,\n",
    "    z - y^2\n",
    "]"
   ]
  },
  {
   "cell_type": "code",
   "execution_count": null,
   "metadata": {},
   "outputs": [],
   "source": [
    "ord = 3\n",
    "for i in 1:length(eqs)\n",
    "    for j in 1:ord\n",
    "        push!(eqs, d(eqs[i], j))\n",
    "    end\n",
    "end"
   ]
  },
  {
   "cell_type": "code",
   "execution_count": null,
   "metadata": {},
   "outputs": [],
   "source": [
    "Rsing, pls = get_singular_polys(eqs);"
   ]
  },
  {
   "cell_type": "code",
   "execution_count": null,
   "metadata": {},
   "outputs": [],
   "source": [
    "gb = gens(Singular.std(Singular.Ideal(Rsing, pls)));\n",
    "p = from_singular(gb[1], R)"
   ]
  },
  {
   "cell_type": "markdown",
   "metadata": {},
   "source": [
    "## Challenge\n",
    "\n",
    "How can we get a differential equation satisfied by $\\frac{1}{\\sin t} + \\frac{1}{\\cos t}$?"
   ]
  },
  {
   "cell_type": "code",
   "execution_count": null,
   "metadata": {},
   "outputs": [],
   "source": []
  }
 ],
 "metadata": {
  "kernelspec": {
   "display_name": "Julia 1.7.2",
   "language": "julia",
   "name": "julia-1.7"
  },
  "language_info": {
   "file_extension": ".jl",
   "mimetype": "application/julia",
   "name": "julia",
   "version": "1.7.2"
  }
 },
 "nbformat": 4,
 "nbformat_minor": 4
}
