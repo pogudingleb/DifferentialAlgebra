{
 "cells": [
  {
   "cell_type": "code",
   "execution_count": 1,
   "metadata": {},
   "outputs": [
    {
     "name": "stdout",
     "output_type": "stream",
     "text": [
      "Singular.jl, based on\n",
      "                     SINGULAR                                 /  \n",
      " A Computer Algebra System for Polynomial Computations       /  Singular.jl: 0.4.1 \n",
      "                                                           0<   Singular   : 2.3.1-4\n",
      " by: W. Decker, G.-M. Greuel, G. Pfister, H. Schoenemann     \\   \n",
      "FB Mathematik der Universitaet, D-67653 Kaiserslautern        \\\n",
      "     \n"
     ]
    },
    {
     "data": {
      "text/plain": [
       "from_singular (generic function with 1 method)"
      ]
     },
     "execution_count": 1,
     "metadata": {},
     "output_type": "execute_result"
    }
   ],
   "source": [
    "include(\"../src/AlgebraicIdeals.jl\")"
   ]
  },
  {
   "cell_type": "markdown",
   "metadata": {},
   "source": [
    "## Predator-pray model\n",
    "\n",
    "The predator prey-model is the following classical ODE system (you can think of $x$ being the number of rabbits and $y$ being the number of wolves)\n",
    "\n",
    "$\\begin{cases}\n",
    "  x' = ax - bxy,\\\\\n",
    "  y' = -cy + dxy\n",
    "\\end{cases}$\n",
    "\n",
    "Assuming we cannot count the wolves but only the rabbits, we would like to obtain an equation in $x$ only."
   ]
  },
  {
   "cell_type": "markdown",
   "metadata": {},
   "source": [
    "First we create the coefficient field $\\mathbb{Q}(a, b, c, d)$"
   ]
  },
  {
   "cell_type": "code",
   "execution_count": 2,
   "metadata": {},
   "outputs": [
    {
     "data": {
      "text/plain": [
       "Fraction field of Multivariate Polynomial Ring in a, b, c, d over Rational Field"
      ]
     },
     "execution_count": 2,
     "metadata": {},
     "output_type": "execute_result"
    }
   ],
   "source": [
    "coef_ring, (a, b, c, dd) = Nemo.PolynomialRing(Nemo.QQ, [\"a\", \"b\", \"c\", \"d\"])\n",
    "F = FractionField(coef_ring)"
   ]
  },
  {
   "cell_type": "markdown",
   "metadata": {},
   "source": [
    "And then the ring of differential polynomials together with the system"
   ]
  },
  {
   "cell_type": "code",
   "execution_count": 3,
   "metadata": {},
   "outputs": [
    {
     "data": {
      "text/plain": [
       "2-element Array{DiffPoly,1}:\n",
       " b*x^(0)*y^(0) - a*x^(0) + x^(1)\n",
       " -d*x^(0)*y^(0) + c*y^(0) + y^(1)"
      ]
     },
     "execution_count": 3,
     "metadata": {},
     "output_type": "execute_result"
    }
   ],
   "source": [
    "R, (x, y) = DifferentialPolynomialRing(F, [\"x\", \"y\"])\n",
    "a, b, c, dd = map(x -> R(x), [a, b, c, dd])\n",
    "\n",
    "eqs = [\n",
    "    d(x) - a * x + b * x * y,\n",
    "    d(y) + c * y - dd * x * y\n",
    "]"
   ]
  },
  {
   "cell_type": "markdown",
   "metadata": {},
   "source": [
    "In order to preform elimination, we add a derivative of each of the equations:"
   ]
  },
  {
   "cell_type": "code",
   "execution_count": 4,
   "metadata": {},
   "outputs": [
    {
     "data": {
      "text/plain": [
       "4-element Array{DiffPoly,1}:\n",
       " b*x^(0)*y^(0) - a*x^(0) + x^(1)\n",
       " -d*x^(0)*y^(0) + c*y^(0) + y^(1)\n",
       " b*x^(0)*y^(1) + b*x^(1)*y^(0) - a*x^(1) + x^(2)\n",
       " -d*x^(0)*y^(1) - d*x^(1)*y^(0) + c*y^(1) + y^(2)"
      ]
     },
     "execution_count": 4,
     "metadata": {},
     "output_type": "execute_result"
    }
   ],
   "source": [
    "for i in 1:2\n",
    "    push!(eqs, d(eqs[i]))\n",
    "end\n",
    "eqs"
   ]
  },
  {
   "cell_type": "markdown",
   "metadata": {},
   "source": [
    "Now we convert them to normal polynomial with `lex` ordering so that $y$'s are higher than $x$'s."
   ]
  },
  {
   "cell_type": "code",
   "execution_count": 6,
   "metadata": {},
   "outputs": [
    {
     "data": {
      "text/plain": [
       "(Singular Polynomial Ring (Coeffs(17)),(y^(0),y^(1),y^(2),x^(0),x^(1),x^(2)),(lp(6),C), spoly{Singular.n_unknown{AbstractAlgebra.Generic.Frac{Nemo.fmpq_mpoly}}}[b*y^(0)*x^(0)+-a*x^(0)+x^(1), -d*y^(0)*x^(0)+c*y^(0)+y^(1), b*y^(0)*x^(1)+b*y^(1)*x^(0)+-a*x^(1)+x^(2), -d*y^(0)*x^(1)+-d*y^(1)*x^(0)+c*y^(1)+y^(2)])"
      ]
     },
     "execution_count": 6,
     "metadata": {},
     "output_type": "execute_result"
    }
   ],
   "source": [
    "Rsing, pls = get_singular_polys(eqs, :lex, lex_ranking([\"y\", \"x\"]))"
   ]
  },
  {
   "cell_type": "markdown",
   "metadata": {},
   "source": [
    "... and compute the Groebner basis"
   ]
  },
  {
   "cell_type": "code",
   "execution_count": 8,
   "metadata": {},
   "outputs": [
    {
     "data": {
      "text/plain": [
       "5-element Array{spoly{Singular.n_unknown{AbstractAlgebra.Generic.Frac{Nemo.fmpq_mpoly}}},1}:\n",
       " (1)*x^(0)^3 + ((-1)//a)*x^(0)^2*x^(1) + ((-c)//d)*x^(0)^2 + (c//(a*d))*x^(0)*x^(1) + (1//(a*d))*x^(0)*x^(2) + ((-1)//(a*d))*x^(1)^2\n",
       " (1)*y^(2)*x^(1) + ((a*c^2*d)//b)*x^(0)^2 + ((a*c*d - c^2*d)//b)*x^(0)*x^(1) + ((-a*c^3)//b)*x^(0) + ((-a*d - c*d)//b)*x^(1)^2 + (d//b)*x^(1)*x^(2) + ((-a*c^2 + c^3)//b)*x^(1) + (c^2//b)*x^(2)\n",
       " (1)*y^(2)*x^(0) + ((-1)//c)*y^(2)*x^(1) + ((-2*a*d)//b)*x^(0)*x^(1) + (d//b)*x^(0)*x^(2) + ((a*d + c*d)//(b*c))*x^(1)^2 + ((-d)//(b*c))*x^(1)*x^(2) + ((a*c)//b)*x^(1) + ((-c)//b)*x^(2)\n",
       " (1)*y^(1) + (1//c)*y^(2) + ((-a*d)//(b*c))*x^(1) + (d//(b*c))*x^(2)\n",
       " (1)*y^(0) + (1//c)*y^(1) + ((-a*d)//(b*c))*x^(0) + (d//(b*c))*x^(1)"
      ]
     },
     "execution_count": 8,
     "metadata": {},
     "output_type": "execute_result"
    }
   ],
   "source": [
    "gb = gens(Singular.std(Ideal(Rsing, pls)))"
   ]
  },
  {
   "cell_type": "markdown",
   "metadata": {},
   "source": [
    "Note that the first element involves $x$'s only. We convert it back to the differential ring and muliply by $ad$ for convenience."
   ]
  },
  {
   "cell_type": "code",
   "execution_count": 9,
   "metadata": {},
   "outputs": [
    {
     "data": {
      "text/plain": [
       "a*d*x^(0)^3 - d*x^(0)^2*x^(1) - a*c*x^(0)^2 + c*x^(0)*x^(1) + x^(0)*x^(2) - x^(1)^2"
      ]
     },
     "execution_count": 9,
     "metadata": {},
     "output_type": "execute_result"
    }
   ],
   "source": [
    "ioequation = a * dd * from_singular(gb[1], R)"
   ]
  },
  {
   "cell_type": "markdown",
   "metadata": {},
   "source": [
    "Then we conclude that the functions of the parameters that can be identified by a series of experiments are\n",
    "\n",
    "$\\mathbb{C}(ad, d, ac, c) = \\mathbb{C}(a, c, d)$"
   ]
  },
  {
   "cell_type": "markdown",
   "metadata": {},
   "source": [
    "## Squaring the Painleve I function"
   ]
  },
  {
   "cell_type": "markdown",
   "metadata": {},
   "source": [
    "Painleve transcendents are the function satisfying a differential equation of the form $y'' = f(t, y, y')$ of degree two and not expressable in terms of \"simpler\" functions.\n",
    "\n",
    "The simplest one is the first Painleve equation:\n",
    "\n",
    "$y'' = 6y^2 + t$\n",
    "\n",
    "We would like to derive a differential equation satisfied by $z = y^2$."
   ]
  },
  {
   "cell_type": "code",
   "execution_count": 10,
   "metadata": {},
   "outputs": [
    {
     "data": {
      "text/plain": [
       "(Differential polynomial ring over Rational Field in t, y, z, (t^(0), y^(0), z^(0)))"
      ]
     },
     "execution_count": 10,
     "metadata": {},
     "output_type": "execute_result"
    }
   ],
   "source": [
    "R, (t, y, z) = DifferentialPolynomialRing(Nemo.QQ, [\"t\", \"y\", \"z\"])"
   ]
  },
  {
   "cell_type": "code",
   "execution_count": 11,
   "metadata": {},
   "outputs": [
    {
     "data": {
      "text/plain": [
       "3-element Array{DiffPoly,1}:\n",
       " t^(1) - 1\n",
       " -t^(0) - 6*y^(0)^2 + y^(2)\n",
       " -y^(0)^2 + z^(0)"
      ]
     },
     "execution_count": 11,
     "metadata": {},
     "output_type": "execute_result"
    }
   ],
   "source": [
    "eqs = [\n",
    "    d(t) - 1,\n",
    "    d(y, 2) - 6 * y^2 - t,\n",
    "    z - y^2\n",
    "]"
   ]
  },
  {
   "cell_type": "code",
   "execution_count": 12,
   "metadata": {},
   "outputs": [],
   "source": [
    "ord = 3\n",
    "for i in 1:length(eqs)\n",
    "    for j in 1:ord\n",
    "        push!(eqs, d(eqs[i], j))\n",
    "    end\n",
    "end"
   ]
  },
  {
   "cell_type": "code",
   "execution_count": 13,
   "metadata": {},
   "outputs": [],
   "source": [
    "Rsing, pls = get_singular_polys(eqs);"
   ]
  },
  {
   "cell_type": "code",
   "execution_count": 14,
   "metadata": {},
   "outputs": [
    {
     "data": {
      "text/plain": [
       "z^(0)^5*z^(1)^2 + 1//3*z^(0)^5*z^(1) + 1//36*z^(0)^5 - 1//144*z^(0)^4*z^(3)^2 + 1//48*z^(0)^3*z^(1)*z^(2)*z^(3) - 1//96*z^(0)^2*z^(1)^3*z^(3) - 1//64*z^(0)^2*z^(1)^2*z^(2)^2 + 1//64*z^(0)*z^(1)^4*z^(2) - 1//256*z^(1)^6"
      ]
     },
     "execution_count": 14,
     "metadata": {},
     "output_type": "execute_result"
    }
   ],
   "source": [
    "gb = gens(Singular.std(Ideal(Rsing, pls)));\n",
    "p = from_singular(gb[1], R)"
   ]
  },
  {
   "cell_type": "markdown",
   "metadata": {},
   "source": [
    "## Challenge\n",
    "\n",
    "How can we get a differential equation satisfied by $\\frac{1}{\\sin t} + \\frac{1}{\\cos t}$?"
   ]
  },
  {
   "cell_type": "code",
   "execution_count": null,
   "metadata": {},
   "outputs": [],
   "source": []
  }
 ],
 "metadata": {
  "kernelspec": {
   "display_name": "Julia 1.5.2",
   "language": "julia",
   "name": "julia-1.5"
  },
  "language_info": {
   "file_extension": ".jl",
   "mimetype": "application/julia",
   "name": "julia",
   "version": "1.5.2"
  }
 },
 "nbformat": 4,
 "nbformat_minor": 4
}
