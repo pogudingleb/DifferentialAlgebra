{
 "cells": [
  {
   "cell_type": "code",
   "execution_count": null,
   "metadata": {},
   "outputs": [],
   "source": [
    "using Nemo\n",
    "using Singular\n",
    "\n",
    "include(\"../src/DifferentialAlgebra.jl\")\n",
    "using .DifferentialAlgebra"
   ]
  },
  {
   "cell_type": "code",
   "execution_count": null,
   "metadata": {},
   "outputs": [],
   "source": [
    "R, (x, y) = DifferentialPolynomialRing(Nemo.QQ, [\"x\", \"y\"])"
   ]
  },
  {
   "cell_type": "code",
   "execution_count": null,
   "metadata": {},
   "outputs": [],
   "source": [
    "n = 8\n",
    "wr = x * d(y) - d(x) * y\n",
    "derivatives_wr = [d(wr, i) for i in 0:n]\n",
    "\n",
    "for a in 0:3\n",
    "    for b in 0:(a - 1)\n",
    "        shifted_wr = d(x, a) * d(y, b) - d(x, b) * d(y, a)\n",
    "\n",
    "        Rsing, polys = get_singular_polys(\n",
    "            vcat(derivatives_wr, shifted_wr), :degrevlex\n",
    "        )\n",
    "\n",
    "        J = Singular.Ideal(Rsing, polys[1:(end - 1)])\n",
    "        swr = polys[end]\n",
    "\n",
    "        gb = std(J)\n",
    "        pow = 1\n",
    "        while reduce(swr^pow, gb) != 0\n",
    "            pow += 1\n",
    "        end\n",
    "        println(\"Exponent for $b, $a is $pow\")\n",
    "    end\n",
    "end"
   ]
  },
  {
   "cell_type": "markdown",
   "metadata": {},
   "source": []
  }
 ],
 "metadata": {
  "kernelspec": {
   "display_name": "Julia 1.7.2",
   "language": "julia",
   "name": "julia-1.7"
  },
  "language_info": {
   "file_extension": ".jl",
   "mimetype": "application/julia",
   "name": "julia",
   "version": "1.7.2"
  }
 },
 "nbformat": 4,
 "nbformat_minor": 4
}
