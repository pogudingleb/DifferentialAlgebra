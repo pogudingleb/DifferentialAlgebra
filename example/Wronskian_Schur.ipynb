{
 "cells": [
  {
   "cell_type": "code",
   "execution_count": 1,
   "metadata": {},
   "outputs": [
    {
     "name": "stdout",
     "output_type": "stream",
     "text": [
      "Singular.jl, based on\n",
      "                     SINGULAR                                 /  \n",
      " A Computer Algebra System for Polynomial Computations       /  Singular.jl: 0.4.1 \n",
      "                                                           0<   Singular   : 2.3.1-4\n",
      " by: W. Decker, G.-M. Greuel, G. Pfister, H. Schoenemann     \\   \n",
      "FB Mathematik der Universitaet, D-67653 Kaiserslautern        \\\n",
      "     \n"
     ]
    },
    {
     "data": {
      "text/plain": [
       "from_singular (generic function with 1 method)"
      ]
     },
     "execution_count": 1,
     "metadata": {},
     "output_type": "execute_result"
    }
   ],
   "source": [
    "include(\"../src/AlgebraicIdeals.jl\")"
   ]
  },
  {
   "cell_type": "code",
   "execution_count": 2,
   "metadata": {},
   "outputs": [
    {
     "data": {
      "text/plain": [
       "(Differential polynomial ring over Rational Field in x, y, (x^(0), y^(0)))"
      ]
     },
     "execution_count": 2,
     "metadata": {},
     "output_type": "execute_result"
    }
   ],
   "source": [
    "R, (x, y) = DifferentialPolynomialRing(Nemo.QQ, [\"x\", \"y\"])"
   ]
  },
  {
   "cell_type": "code",
   "execution_count": 3,
   "metadata": {},
   "outputs": [
    {
     "name": "stdout",
     "output_type": "stream",
     "text": [
      "Exponent for 0, 1 is 1\n",
      "Exponent for 0, 2 is 1\n",
      "Exponent for 1, 2 is 2\n",
      "Exponent for 0, 3 is 2\n",
      "Exponent for 1, 3 is 3\n",
      "Exponent for 2, 3 is 4\n",
      "Exponent for 0, 4 is 3\n",
      "Exponent for 1, 4 is 4\n",
      "Exponent for 2, 4 is 5\n",
      "Exponent for 3, 4 is 6\n"
     ]
    }
   ],
   "source": [
    "n = 8\n",
    "wr = x * d(y) - d(x) * y\n",
    "derivatives_wr = [d(wr, i) for i in 0:n]\n",
    "\n",
    "for a in 0:4\n",
    "    for b in 0:(a - 1)\n",
    "        shifted_wr = d(x, a) * d(y, b) - d(x, b) * d(y, a)\n",
    "\n",
    "        Rsing, polys = get_singular_polys(\n",
    "            vcat(derivatives_wr, shifted_wr), :degrevlex\n",
    "        )\n",
    "\n",
    "        J = Ideal(Rsing, polys[1:(end - 1)])\n",
    "        swr = polys[end]\n",
    "\n",
    "        gb = std(J)\n",
    "        pow = 1\n",
    "        while reduce(swr^pow, gb) != 0\n",
    "            pow += 1\n",
    "        end\n",
    "        println(\"Exponent for $b, $a is $pow\")\n",
    "    end\n",
    "end"
   ]
  },
  {
   "cell_type": "markdown",
   "metadata": {},
   "source": []
  }
 ],
 "metadata": {
  "kernelspec": {
   "display_name": "Julia 1.5.2",
   "language": "julia",
   "name": "julia-1.5"
  },
  "language_info": {
   "file_extension": ".jl",
   "mimetype": "application/julia",
   "name": "julia",
   "version": "1.5.2"
  }
 },
 "nbformat": 4,
 "nbformat_minor": 4
}
