{
 "cells": [
  {
   "cell_type": "markdown",
   "metadata": {},
   "source": [
    "### Experiments with x^n"
   ]
  },
  {
   "cell_type": "code",
   "execution_count": 1,
   "metadata": {},
   "outputs": [
    {
     "name": "stdout",
     "output_type": "stream",
     "text": [
      "\n",
      "Welcome to Nemo version 0.30.0\n",
      "\n",
      "Nemo comes with absolutely no warranty whatsoever\n",
      "\n",
      "Singular.jl, based on\n",
      "                     SINGULAR                               /\n",
      " A Computer Algebra System for Polynomial Computations     /  Singular.jl: 0.10.1\n",
      "                                                         0<   Singular   : 4.3.0p1\n",
      " by: W. Decker, G.-M. Greuel, G. Pfister, H. Schoenemann   \\\n",
      "FB Mathematik der Universitaet, D-67653 Kaiserslautern      \\\n",
      "     \n"
     ]
    }
   ],
   "source": [
    "using Nemo\n",
    "using Singular\n",
    "\n",
    "include(\"../src/DifferentialAlgebra.jl\")\n",
    "using .DifferentialAlgebra"
   ]
  },
  {
   "cell_type": "code",
   "execution_count": 2,
   "metadata": {},
   "outputs": [
    {
     "data": {
      "text/plain": [
       "(Differential polynomial ring over Rational Field in x, (x^(0),))"
      ]
     },
     "execution_count": 2,
     "metadata": {},
     "output_type": "execute_result"
    }
   ],
   "source": [
    "R, (x,) = DifferentialPolynomialRing(Nemo.QQ, [\"x\"])"
   ]
  },
  {
   "cell_type": "markdown",
   "metadata": {},
   "source": [
    "For different values of $n$, checking whether $(x')^{2n - 1} \\in \\langle (x^n)^{(\\leqslant n)} \\rangle$"
   ]
  },
  {
   "cell_type": "code",
   "execution_count": 4,
   "metadata": {},
   "outputs": [
    {
     "name": "stdout",
     "output_type": "stream",
     "text": [
      "True for 1\n",
      "True for 2\n",
      "True for 3\n",
      "True for 4\n",
      "True for 5\n",
      "True for 6\n",
      "True for 7\n",
      "True for 8\n"
     ]
    }
   ],
   "source": [
    "for n in 1:8\n",
    "    p = x^n\n",
    "    ders_p = [d(p, i) for i in 0:n]\n",
    "    Rsing, polys = get_singular_polys(vcat(ders_p, d(x)), :degrevlex)\n",
    "\n",
    "    J = Singular.Ideal(Rsing, polys[1:(end - 1)])\n",
    "    x_prime = polys[end]\n",
    "    gb = std(J)\n",
    "\n",
    "    if reduce(x_prime^(2 * n - 1), gb) == 0\n",
    "        println(\"True for $n\")\n",
    "    else\n",
    "        println(\"False for $n\")\n",
    "    end\n",
    "end"
   ]
  },
  {
   "cell_type": "markdown",
   "metadata": {},
   "source": [
    "For different values of $n$, checking whether $(x'')^{3n - 2} \\in \\langle (x^n)^{(\\leqslant 2n)} \\rangle$"
   ]
  },
  {
   "cell_type": "code",
   "execution_count": 5,
   "metadata": {},
   "outputs": [
    {
     "name": "stdout",
     "output_type": "stream",
     "text": [
      "True for 1\n",
      "True for 2\n",
      "True for 3\n",
      "True for 4\n",
      "True for 5\n",
      "True for 6\n",
      "True for 7\n",
      "True for 8\n"
     ]
    }
   ],
   "source": [
    "for n in 1:8\n",
    "    p = x^n\n",
    "    ders_p = [d(p, i) for i in 0:(2 * n)]\n",
    "    Rsing, polys = get_singular_polys(vcat(ders_p, d(x, 2)), :degrevlex)\n",
    "\n",
    "    J = Singular.Ideal(Rsing, polys[1:(end - 1)])\n",
    "    x_prime = polys[end]\n",
    "    gb = std(J)\n",
    "    \n",
    "    if reduce(x_prime^(3 * n - 2), gb) == 0\n",
    "        println(\"True for $n\")\n",
    "    else\n",
    "        println(\"False for $n\")\n",
    "    end\n",
    "end"
   ]
  },
  {
   "cell_type": "markdown",
   "metadata": {},
   "source": [
    "Here are the coefficients for expressing $(x'')^4$ as an element of $\\langle x^2 \\rangle^{(\\leqslant 4)}$"
   ]
  },
  {
   "cell_type": "code",
   "execution_count": 6,
   "metadata": {},
   "outputs": [
    {
     "data": {
      "text/plain": [
       "5-element Vector{DiffPoly}:\n",
       " 1//9*x^(4)^2\n",
       " 4//15*x^(3)*x^(4)\n",
       " 8//45*x^(3)^2\n",
       " -8//45*x^(2)*x^(3)\n",
       " -1//18*x^(0)*x^(4) - 2//45*x^(1)*x^(3) + 1//6*x^(2)^2"
      ]
     },
     "execution_count": 6,
     "metadata": {},
     "output_type": "execute_result"
    }
   ],
   "source": [
    "p = [\n",
    "    1//9 * d(x, 4)^2,\n",
    "    4//9 * d(x, 3) * d(x, 4) + -16//9 * d(x, 3) * 1//5 * 1//2 * d(x, 4),\n",
    "    8//9 * d(x, 3)^2 + -16//9 * d(x, 3) * 1//5 * 2 * d(x, 3),\n",
    "    -16//9 * d(x, 3) * 1//5 * 1//2 * d(x, 2),\n",
    "    R(1//6) * d(x, 2)^2 + R(1//6) * (-1//3 * x * d(x, 4) - 4//3 * d(x, 1) * d(x, 3)) + 16//9 * d(x, 3) * 1//5 * 1//2 * d(x, 1) \n",
    "]"
   ]
  },
  {
   "cell_type": "code",
   "execution_count": 7,
   "metadata": {},
   "outputs": [
    {
     "data": {
      "text/html": [
       "x^(2)^4"
      ],
      "text/latex": [
       "x^(2)^4"
      ],
      "text/plain": [
       "x^(2)^4"
      ]
     },
     "execution_count": 7,
     "metadata": {},
     "output_type": "execute_result"
    }
   ],
   "source": [
    "sum([p[i] * d(x^2, i - 1) for i in 1:5])"
   ]
  },
  {
   "cell_type": "code",
   "execution_count": null,
   "metadata": {},
   "outputs": [],
   "source": []
  }
 ],
 "metadata": {
  "kernelspec": {
   "display_name": "Julia 1.7.2",
   "language": "julia",
   "name": "julia-1.7"
  },
  "language_info": {
   "file_extension": ".jl",
   "mimetype": "application/julia",
   "name": "julia",
   "version": "1.7.2"
  }
 },
 "nbformat": 4,
 "nbformat_minor": 4
}
