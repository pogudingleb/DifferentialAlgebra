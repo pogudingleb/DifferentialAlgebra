{
 "cells": [
  {
   "cell_type": "markdown",
   "metadata": {},
   "source": [
    "### Experiments with x^n"
   ]
  },
  {
   "cell_type": "code",
   "execution_count": 1,
   "metadata": {},
   "outputs": [
    {
     "name": "stdout",
     "output_type": "stream",
     "text": [
      "Singular.jl, based on\n",
      "                     SINGULAR                                 /\n",
      " A Computer Algebra System for Polynomial Computations       /  Singular.jl: 0.4.2\n",
      "                                                           0<   Singular   : 2.3.1-4\n",
      " by: W. Decker, G.-M. Greuel, G. Pfister, H. Schoenemann     \\\n",
      "FB Mathematik der Universitaet, D-67653 Kaiserslautern        \\\n",
      "     \n"
     ]
    },
    {
     "data": {
      "text/plain": [
       "from_singular (generic function with 1 method)"
      ]
     },
     "execution_count": 1,
     "metadata": {},
     "output_type": "execute_result"
    }
   ],
   "source": [
    "include(\"../src/AlgebraicIdeals.jl\")"
   ]
  },
  {
   "cell_type": "code",
   "execution_count": 2,
   "metadata": {},
   "outputs": [
    {
     "data": {
      "text/plain": [
       "(Differential polynomial ring over Rational Field in x, (x^(0),))"
      ]
     },
     "execution_count": 2,
     "metadata": {},
     "output_type": "execute_result"
    }
   ],
   "source": [
    "R, (x,) = DifferentialPolynomialRing(Nemo.QQ, [\"x\"])"
   ]
  },
  {
   "cell_type": "markdown",
   "metadata": {},
   "source": [
    "For different values of $n$, checking whether $(x')^{2n - 1} \\in \\langle (x^n)^{(\\leqslant n)} \\rangle$"
   ]
  },
  {
   "cell_type": "code",
   "execution_count": 11,
   "metadata": {},
   "outputs": [
    {
     "name": "stdout",
     "output_type": "stream",
     "text": [
      "True for 1\n",
      "True for 2\n",
      "True for 3\n",
      "True for 4\n",
      "True for 5\n",
      "True for 6\n",
      "True for 7\n",
      "True for 8\n"
     ]
    }
   ],
   "source": [
    "for n in 1:8\n",
    "    p = x^n\n",
    "    ders_p = [d(p, i) for i in 0:n]\n",
    "    Rsing, polys = get_singular_polys(vcat(ders_p, d(x)), :degrevlex)\n",
    "\n",
    "    J = Ideal(Rsing, polys[1:(end - 1)])\n",
    "    x_prime = polys[end]\n",
    "    gb = std(J)\n",
    "\n",
    "    if reduce(x_prime^(2 * n - 1), gb) == 0\n",
    "        println(\"True for $n\")\n",
    "    else\n",
    "        println(\"False for $n\")\n",
    "    end\n",
    "end"
   ]
  },
  {
   "cell_type": "markdown",
   "metadata": {},
   "source": [
    "For different values of $n$, checking whether $(x'')^{3n - 2} \\in \\langle (x^n)^{(\\leqslant 2n)} \\rangle$"
   ]
  },
  {
   "cell_type": "code",
   "execution_count": 10,
   "metadata": {},
   "outputs": [
    {
     "name": "stdout",
     "output_type": "stream",
     "text": [
      "True for 1\n",
      "True for 2\n",
      "True for 3\n",
      "True for 4\n",
      "True for 5\n",
      "True for 6\n",
      "True for 7\n",
      "True for 8\n"
     ]
    }
   ],
   "source": [
    "for n in 1:8\n",
    "    p = x^n\n",
    "    ders_p = [d(p, i) for i in 0:(2 * n)]\n",
    "    Rsing, polys = get_singular_polys(vcat(ders_p, d(x, 2)), :degrevlex)\n",
    "\n",
    "    J = Ideal(Rsing, polys[1:(end - 1)])\n",
    "    x_prime = polys[end]\n",
    "    gb = std(J)\n",
    "\n",
    "    if reduce(x_prime^(3 * n - 2), gb) == 0\n",
    "        println(\"True for $n\")\n",
    "    else\n",
    "        println(\"False for $n\")\n",
    "    end\n",
    "end"
   ]
  },
  {
   "cell_type": "code",
   "execution_count": null,
   "metadata": {},
   "outputs": [],
   "source": []
  }
 ],
 "metadata": {
  "kernelspec": {
   "display_name": "Julia 1.5.2",
   "language": "julia",
   "name": "julia-1.5"
  },
  "language_info": {
   "file_extension": ".jl",
   "mimetype": "application/julia",
   "name": "julia",
   "version": "1.5.2"
  }
 },
 "nbformat": 4,
 "nbformat_minor": 4
}
