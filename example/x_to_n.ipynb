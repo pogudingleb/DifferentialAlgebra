{
 "cells": [
  {
   "cell_type": "markdown",
   "metadata": {},
   "source": [
    "### Experiments with x^n"
   ]
  },
  {
   "cell_type": "code",
   "execution_count": null,
   "metadata": {},
   "outputs": [],
   "source": [
    "using Nemo\n",
    "using Singular\n",
    "using DifferentialAlgebra"
   ]
  },
  {
   "cell_type": "code",
   "execution_count": null,
   "metadata": {},
   "outputs": [],
   "source": [
    "R, (x,) = DifferentialPolynomialRing(Nemo.QQ, [\"x\"])"
   ]
  },
  {
   "cell_type": "markdown",
   "metadata": {},
   "source": [
    "For different values of $n$, checking whether $(x')^{2n - 1} \\in \\langle (x^n)^{(\\leqslant n)} \\rangle$"
   ]
  },
  {
   "cell_type": "code",
   "execution_count": null,
   "metadata": {},
   "outputs": [],
   "source": [
    "for n in 1:8\n",
    "    p = x^n\n",
    "    ders_p = [d(p, i) for i in 0:n]\n",
    "    Rsing, polys = get_singular_polys(vcat(ders_p, d(x)), :degrevlex)\n",
    "\n",
    "    J = Singular.Ideal(Rsing, polys[1:(end - 1)])\n",
    "    x_prime = polys[end]\n",
    "    gb = std(J)\n",
    "\n",
    "    if reduce(x_prime^(2 * n - 1), gb) == 0\n",
    "        println(\"True for $n\")\n",
    "    else\n",
    "        println(\"False for $n\")\n",
    "    end\n",
    "end"
   ]
  },
  {
   "cell_type": "markdown",
   "metadata": {},
   "source": [
    "For different values of $n$, checking whether $(x'')^{3n - 2} \\in \\langle (x^n)^{(\\leqslant 2n)} \\rangle$"
   ]
  },
  {
   "cell_type": "code",
   "execution_count": null,
   "metadata": {},
   "outputs": [],
   "source": [
    "for n in 1:8\n",
    "    p = x^n\n",
    "    ders_p = [d(p, i) for i in 0:(2 * n)]\n",
    "    Rsing, polys = get_singular_polys(vcat(ders_p, d(x, 2)), :degrevlex)\n",
    "\n",
    "    J = Singular.Ideal(Rsing, polys[1:(end - 1)])\n",
    "    x_prime = polys[end]\n",
    "    gb = std(J)\n",
    "    \n",
    "    if reduce(x_prime^(3 * n - 2), gb) == 0\n",
    "        println(\"True for $n\")\n",
    "    else\n",
    "        println(\"False for $n\")\n",
    "    end\n",
    "end"
   ]
  },
  {
   "cell_type": "markdown",
   "metadata": {},
   "source": [
    "Here are the coefficients for expressing $(x'')^4$ as an element of $\\langle x^2 \\rangle^{(\\leqslant 4)}$"
   ]
  },
  {
   "cell_type": "code",
   "execution_count": null,
   "metadata": {},
   "outputs": [],
   "source": [
    "p = [\n",
    "    1//9 * d(x, 4)^2,\n",
    "    4//9 * d(x, 3) * d(x, 4) + -16//9 * d(x, 3) * 1//5 * 1//2 * d(x, 4),\n",
    "    8//9 * d(x, 3)^2 + -16//9 * d(x, 3) * 1//5 * 2 * d(x, 3),\n",
    "    -16//9 * d(x, 3) * 1//5 * 1//2 * d(x, 2),\n",
    "    R(1//6) * d(x, 2)^2 + R(1//6) * (-1//3 * x * d(x, 4) - 4//3 * d(x, 1) * d(x, 3)) + 16//9 * d(x, 3) * 1//5 * 1//2 * d(x, 1) \n",
    "]"
   ]
  },
  {
   "cell_type": "code",
   "execution_count": null,
   "metadata": {},
   "outputs": [],
   "source": [
    "sum([p[i] * d(x^2, i - 1) for i in 1:5])"
   ]
  },
  {
   "cell_type": "code",
   "execution_count": null,
   "metadata": {},
   "outputs": [],
   "source": []
  }
 ],
 "metadata": {
  "kernelspec": {
   "display_name": "Julia 1.7.2",
   "language": "julia",
   "name": "julia-1.7"
  },
  "language_info": {
   "file_extension": ".jl",
   "mimetype": "application/julia",
   "name": "julia",
   "version": "1.7.2"
  }
 },
 "nbformat": 4,
 "nbformat_minor": 4
}
